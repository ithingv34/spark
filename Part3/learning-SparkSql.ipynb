{
 "cells": [
  {
   "cell_type": "code",
   "execution_count": 1,
   "id": "f9852844",
   "metadata": {},
   "outputs": [],
   "source": [
    "from pyspark.sql import SparkSession"
   ]
  },
  {
   "cell_type": "code",
   "execution_count": 2,
   "id": "102bcdb8",
   "metadata": {},
   "outputs": [
    {
     "name": "stderr",
     "output_type": "stream",
     "text": [
      "Setting default log level to \"WARN\".\n",
      "To adjust logging level use sc.setLogLevel(newLevel). For SparkR, use setLogLevel(newLevel).\n",
      "23/04/26 10:43:09 INFO org.apache.spark.SparkEnv: Registering MapOutputTracker\n",
      "23/04/26 10:43:09 INFO org.apache.spark.SparkEnv: Registering BlockManagerMaster\n",
      "23/04/26 10:43:09 INFO org.apache.spark.SparkEnv: Registering BlockManagerMasterHeartbeat\n",
      "23/04/26 10:43:09 INFO org.apache.spark.SparkEnv: Registering OutputCommitCoordinator\n"
     ]
    }
   ],
   "source": [
    "spark = SparkSession.builder.master(\"local\").appName(\"learn-sql\").getOrCreate()"
   ]
  },
  {
   "cell_type": "code",
   "execution_count": 3,
   "id": "5ea7167e",
   "metadata": {},
   "outputs": [],
   "source": [
    "stocks = [\n",
    "    ('Google', 'GOOGL', 'USA', 2984, 'USD'), \n",
    "    ('Netflix', 'NFLX', 'USA', 645, 'USD'),\n",
    "    ('Amazon', 'AMZN', 'USA', 3518, 'USD'),\n",
    "    ('Tesla', 'TSLA', 'USA', 1222, 'USD'),\n",
    "    ('Tencent', '0700', 'Hong Kong', 483, 'HKD'),\n",
    "    ('Toyota', '7203', 'Japan', 2006, 'JPY'),\n",
    "    ('Samsung', '005930', 'Korea', 70600, 'KRW'),\n",
    "    ('Kakao', '035720', 'Korea', 125000, 'KRW'),\n",
    "]"
   ]
  },
  {
   "cell_type": "code",
   "execution_count": 4,
   "id": "badb018e",
   "metadata": {},
   "outputs": [],
   "source": [
    "stockSchema = [\"name\", \"ticker\", \"country\", \"price\", \"currency\"]"
   ]
  },
  {
   "cell_type": "code",
   "execution_count": 5,
   "id": "1d849a8a",
   "metadata": {},
   "outputs": [],
   "source": [
    "df = spark.createDataFrame(data=stocks, schema=stockSchema)"
   ]
  },
  {
   "cell_type": "code",
   "execution_count": 6,
   "id": "b01fc245",
   "metadata": {},
   "outputs": [
    {
     "data": {
      "text/plain": [
       "[('name', 'string'),\n",
       " ('ticker', 'string'),\n",
       " ('country', 'string'),\n",
       " ('price', 'bigint'),\n",
       " ('currency', 'string')]"
      ]
     },
     "execution_count": 6,
     "metadata": {},
     "output_type": "execute_result"
    }
   ],
   "source": [
    "df.dtypes"
   ]
  },
  {
   "cell_type": "code",
   "execution_count": 7,
   "id": "02552f32",
   "metadata": {},
   "outputs": [
    {
     "name": "stderr",
     "output_type": "stream",
     "text": [
      "[Stage 0:>                                                          (0 + 1) / 1]\r"
     ]
    },
    {
     "name": "stdout",
     "output_type": "stream",
     "text": [
      "+-------+------+---------+------+--------+\n",
      "|   name|ticker|  country| price|currency|\n",
      "+-------+------+---------+------+--------+\n",
      "| Google| GOOGL|      USA|  2984|     USD|\n",
      "|Netflix|  NFLX|      USA|   645|     USD|\n",
      "| Amazon|  AMZN|      USA|  3518|     USD|\n",
      "|  Tesla|  TSLA|      USA|  1222|     USD|\n",
      "|Tencent|  0700|Hong Kong|   483|     HKD|\n",
      "| Toyota|  7203|    Japan|  2006|     JPY|\n",
      "|Samsung|005930|    Korea| 70600|     KRW|\n",
      "|  Kakao|035720|    Korea|125000|     KRW|\n",
      "+-------+------+---------+------+--------+\n",
      "\n"
     ]
    },
    {
     "name": "stderr",
     "output_type": "stream",
     "text": [
      "                                                                                \r"
     ]
    }
   ],
   "source": [
    "df.show()"
   ]
  },
  {
   "cell_type": "code",
   "execution_count": 8,
   "id": "ec92897c",
   "metadata": {},
   "outputs": [],
   "source": [
    "df.createOrReplaceTempView(\"stocks\")"
   ]
  },
  {
   "cell_type": "code",
   "execution_count": 9,
   "id": "bd5d5259",
   "metadata": {},
   "outputs": [
    {
     "name": "stdout",
     "output_type": "stream",
     "text": [
      "+-------+\n",
      "|   name|\n",
      "+-------+\n",
      "| Google|\n",
      "|Netflix|\n",
      "| Amazon|\n",
      "|  Tesla|\n",
      "|Tencent|\n",
      "| Toyota|\n",
      "|Samsung|\n",
      "|  Kakao|\n",
      "+-------+\n",
      "\n"
     ]
    }
   ],
   "source": [
    "spark.sql(\"select name from stocks\").show()"
   ]
  },
  {
   "cell_type": "code",
   "execution_count": 10,
   "id": "8f1b5448",
   "metadata": {},
   "outputs": [
    {
     "name": "stdout",
     "output_type": "stream",
     "text": [
      "+-------+------+\n",
      "|   name| price|\n",
      "+-------+------+\n",
      "| Google|  2984|\n",
      "|Netflix|   645|\n",
      "| Amazon|  3518|\n",
      "|  Tesla|  1222|\n",
      "|Tencent|   483|\n",
      "| Toyota|  2006|\n",
      "|Samsung| 70600|\n",
      "|  Kakao|125000|\n",
      "+-------+------+\n",
      "\n"
     ]
    }
   ],
   "source": [
    "spark.sql(\"select name, price from stocks\").show()"
   ]
  },
  {
   "cell_type": "markdown",
   "id": "bdc92179",
   "metadata": {},
   "source": [
    "### 한국에 있는 데이터만 가져오기"
   ]
  },
  {
   "cell_type": "code",
   "execution_count": 11,
   "id": "637c38ab",
   "metadata": {},
   "outputs": [
    {
     "name": "stdout",
     "output_type": "stream",
     "text": [
      "+-------+------+\n",
      "|   name| price|\n",
      "+-------+------+\n",
      "|Samsung| 70600|\n",
      "|  Kakao|125000|\n",
      "+-------+------+\n",
      "\n"
     ]
    }
   ],
   "source": [
    "spark.sql(\"select name, price from stocks where country = 'Korea'\").show()"
   ]
  },
  {
   "cell_type": "markdown",
   "id": "2ff708ee",
   "metadata": {},
   "source": [
    "### 주가가 2000 이상"
   ]
  },
  {
   "cell_type": "code",
   "execution_count": 12,
   "id": "4e9535bb",
   "metadata": {},
   "outputs": [
    {
     "name": "stdout",
     "output_type": "stream",
     "text": [
      "+-------+------+\n",
      "|   name| price|\n",
      "+-------+------+\n",
      "| Google|  2984|\n",
      "| Amazon|  3518|\n",
      "| Toyota|  2006|\n",
      "|Samsung| 70600|\n",
      "|  Kakao|125000|\n",
      "+-------+------+\n",
      "\n"
     ]
    }
   ],
   "source": [
    "spark.sql(\"select name, price from stocks where price > 2000\").show()"
   ]
  },
  {
   "cell_type": "markdown",
   "id": "8a20ec30",
   "metadata": {},
   "source": [
    "### 국적이 미국이고 주가가 2000 이상"
   ]
  },
  {
   "cell_type": "code",
   "execution_count": 13,
   "id": "c5107378",
   "metadata": {},
   "outputs": [
    {
     "name": "stdout",
     "output_type": "stream",
     "text": [
      "+------+-----+\n",
      "|  name|price|\n",
      "+------+-----+\n",
      "|Google| 2984|\n",
      "|Amazon| 3518|\n",
      "+------+-----+\n",
      "\n"
     ]
    }
   ],
   "source": [
    "spark.sql(\"select name, price from stocks where price > 2000 and country = 'USA'\").show()"
   ]
  },
  {
   "cell_type": "markdown",
   "id": "612387de",
   "metadata": {},
   "source": [
    "### U로 시작하는 국적"
   ]
  },
  {
   "cell_type": "code",
   "execution_count": 14,
   "id": "62fc385d",
   "metadata": {},
   "outputs": [
    {
     "name": "stdout",
     "output_type": "stream",
     "text": [
      "+-------+-----+\n",
      "|   name|price|\n",
      "+-------+-----+\n",
      "| Google| 2984|\n",
      "|Netflix|  645|\n",
      "| Amazon| 3518|\n",
      "|  Tesla| 1222|\n",
      "+-------+-----+\n",
      "\n"
     ]
    }
   ],
   "source": [
    "spark.sql(\"select name, price from stocks where country like 'U%'\").show()"
   ]
  },
  {
   "cell_type": "markdown",
   "id": "7324eb2d",
   "metadata": {},
   "source": [
    "### U로 시작하는 국적에 회사명에 E가 포함되지 않음 "
   ]
  },
  {
   "cell_type": "code",
   "execution_count": 15,
   "id": "bc044fd8",
   "metadata": {},
   "outputs": [
    {
     "name": "stdout",
     "output_type": "stream",
     "text": [
      "+------+-----+\n",
      "|  name|price|\n",
      "+------+-----+\n",
      "|Amazon| 3518|\n",
      "+------+-----+\n",
      "\n"
     ]
    }
   ],
   "source": [
    "spark.sql(\"select name, price from stocks where country like 'U%' and name not like '%e%'\").show()"
   ]
  },
  {
   "cell_type": "markdown",
   "id": "b2a4eb4e",
   "metadata": {},
   "source": [
    "### 주가가 1000 ~ 10000 사이"
   ]
  },
  {
   "cell_type": "code",
   "execution_count": 16,
   "id": "64de9d70",
   "metadata": {},
   "outputs": [
    {
     "name": "stdout",
     "output_type": "stream",
     "text": [
      "+------+-----+\n",
      "|  name|price|\n",
      "+------+-----+\n",
      "|Google| 2984|\n",
      "|Amazon| 3518|\n",
      "| Tesla| 1222|\n",
      "|Toyota| 2006|\n",
      "+------+-----+\n",
      "\n"
     ]
    }
   ],
   "source": [
    "spark.sql(\"select name, price from stocks where price between 1000 and 10000\").show()"
   ]
  },
  {
   "cell_type": "markdown",
   "id": "1bbd3b7c",
   "metadata": {},
   "source": [
    "### 국적이 USA"
   ]
  },
  {
   "cell_type": "code",
   "execution_count": 17,
   "id": "f2d58755",
   "metadata": {},
   "outputs": [
    {
     "name": "stdout",
     "output_type": "stream",
     "text": [
      "+-------+-----+\n",
      "|   name|price|\n",
      "+-------+-----+\n",
      "| Google| 2984|\n",
      "|Netflix|  645|\n",
      "| Amazon| 3518|\n",
      "|  Tesla| 1222|\n",
      "+-------+-----+\n",
      "\n"
     ]
    }
   ],
   "source": [
    "spark.sql(\"select name, price from stocks where country='USA'\").show()"
   ]
  },
  {
   "cell_type": "markdown",
   "id": "44f120fa",
   "metadata": {},
   "source": [
    "### 통화가 달러이고 주가가 테슬라보다 높은 경우"
   ]
  },
  {
   "cell_type": "code",
   "execution_count": 18,
   "id": "e349300d",
   "metadata": {},
   "outputs": [
    {
     "name": "stdout",
     "output_type": "stream",
     "text": [
      "+------+-----+--------+\n",
      "|  name|price|currency|\n",
      "+------+-----+--------+\n",
      "|Google| 2984|     USD|\n",
      "|Amazon| 3518|     USD|\n",
      "+------+-----+--------+\n",
      "\n"
     ]
    }
   ],
   "source": [
    "spark.sql(\"select name, price, currency from stocks \\\n",
    "where currency = 'USD' and \\\n",
    "price > (select price from stocks where name = 'Tesla')\").show()"
   ]
  },
  {
   "cell_type": "markdown",
   "id": "6b426c77",
   "metadata": {},
   "source": [
    "### 주가 오름차순"
   ]
  },
  {
   "cell_type": "code",
   "execution_count": 19,
   "id": "89f8af63",
   "metadata": {},
   "outputs": [
    {
     "name": "stdout",
     "output_type": "stream",
     "text": [
      "+-------+------+\n",
      "|   name| price|\n",
      "+-------+------+\n",
      "|Tencent|   483|\n",
      "|Netflix|   645|\n",
      "|  Tesla|  1222|\n",
      "| Toyota|  2006|\n",
      "| Google|  2984|\n",
      "| Amazon|  3518|\n",
      "|Samsung| 70600|\n",
      "|  Kakao|125000|\n",
      "+-------+------+\n",
      "\n"
     ]
    }
   ],
   "source": [
    "spark.sql(\"select name, price from stocks order by price asc\").show()"
   ]
  },
  {
   "cell_type": "markdown",
   "id": "93fe561f",
   "metadata": {},
   "source": [
    "### 주가 내림차순"
   ]
  },
  {
   "cell_type": "code",
   "execution_count": 20,
   "id": "7cc6cf44",
   "metadata": {},
   "outputs": [
    {
     "name": "stdout",
     "output_type": "stream",
     "text": [
      "+-------+------+\n",
      "|   name| price|\n",
      "+-------+------+\n",
      "|  Kakao|125000|\n",
      "|Samsung| 70600|\n",
      "| Amazon|  3518|\n",
      "| Google|  2984|\n",
      "| Toyota|  2006|\n",
      "|  Tesla|  1222|\n",
      "|Netflix|   645|\n",
      "|Tencent|   483|\n",
      "+-------+------+\n",
      "\n"
     ]
    }
   ],
   "source": [
    "spark.sql(\"select name, price from stocks order by price desc\").show()"
   ]
  },
  {
   "cell_type": "markdown",
   "id": "56fc0fec",
   "metadata": {},
   "source": [
    "### 회사 이름 길이 순으로 정렬"
   ]
  },
  {
   "cell_type": "code",
   "execution_count": 21,
   "id": "4a1caff8",
   "metadata": {},
   "outputs": [
    {
     "name": "stdout",
     "output_type": "stream",
     "text": [
      "+-------+------+\n",
      "|   name| price|\n",
      "+-------+------+\n",
      "|  Tesla|  1222|\n",
      "|  Kakao|125000|\n",
      "| Amazon|  3518|\n",
      "| Toyota|  2006|\n",
      "| Google|  2984|\n",
      "|Netflix|   645|\n",
      "|Samsung| 70600|\n",
      "|Tencent|   483|\n",
      "+-------+------+\n",
      "\n"
     ]
    }
   ],
   "source": [
    "spark.sql(\"select name, price from stocks order by length(name)\").show()"
   ]
  },
  {
   "cell_type": "markdown",
   "id": "05f7a304",
   "metadata": {},
   "source": [
    "### 한국 회사의 모든 주가 합"
   ]
  },
  {
   "cell_type": "code",
   "execution_count": 22,
   "id": "c0b1d1ff",
   "metadata": {},
   "outputs": [
    {
     "name": "stdout",
     "output_type": "stream",
     "text": [
      "+----------+\n",
      "|sum(price)|\n",
      "+----------+\n",
      "|    195600|\n",
      "+----------+\n",
      "\n"
     ]
    }
   ],
   "source": [
    "spark.sql(\"select sum(price) from stocks where country = 'Korea'\").show()"
   ]
  },
  {
   "cell_type": "markdown",
   "id": "c6e3bb21",
   "metadata": {},
   "source": [
    "### 한국 회사의 모든 주가 합"
   ]
  },
  {
   "cell_type": "code",
   "execution_count": 23,
   "id": "7cbd0c10",
   "metadata": {},
   "outputs": [
    {
     "name": "stdout",
     "output_type": "stream",
     "text": [
      "+-----------+\n",
      "|mean(price)|\n",
      "+-----------+\n",
      "|    97800.0|\n",
      "+-----------+\n",
      "\n"
     ]
    }
   ],
   "source": [
    "spark.sql(\"select mean(price) from stocks where country = 'Korea'\").show()"
   ]
  },
  {
   "cell_type": "markdown",
   "id": "f1b2d914",
   "metadata": {},
   "source": [
    "### 한국 회사 개수"
   ]
  },
  {
   "cell_type": "code",
   "execution_count": 24,
   "id": "ce594c63",
   "metadata": {},
   "outputs": [
    {
     "name": "stdout",
     "output_type": "stream",
     "text": [
      "+------------+\n",
      "|count(price)|\n",
      "+------------+\n",
      "|           2|\n",
      "+------------+\n",
      "\n"
     ]
    }
   ],
   "source": [
    "spark.sql(\"select count(price) from stocks where country = 'Korea'\").show()"
   ]
  },
  {
   "cell_type": "markdown",
   "id": "5945d9d2",
   "metadata": {},
   "source": [
    "### 한국, 미국에 있는 회사"
   ]
  },
  {
   "cell_type": "code",
   "execution_count": 25,
   "id": "8d23e5c8",
   "metadata": {},
   "outputs": [
    {
     "name": "stdout",
     "output_type": "stream",
     "text": [
      "+------------+\n",
      "|count(price)|\n",
      "+------------+\n",
      "|           6|\n",
      "+------------+\n",
      "\n"
     ]
    }
   ],
   "source": [
    "spark.sql(\"select count(price) from stocks where country in ('Korea', 'USA')\").show()"
   ]
  },
  {
   "cell_type": "markdown",
   "id": "ffb6ee92",
   "metadata": {},
   "source": [
    "### Join 다뤄보기"
   ]
  },
  {
   "cell_type": "code",
   "execution_count": 35,
   "id": "f2143a59",
   "metadata": {},
   "outputs": [],
   "source": [
    "earnings = [\n",
    "    ('Google', 27.99, 'USD'), \n",
    "    ('Netflix', 2.56, 'USD'),\n",
    "    ('Amazon', 6.12, 'USD'),\n",
    "    ('Tesla', 1.86, 'USD'),\n",
    "    ('Tencent', 11.01, 'HKD'),\n",
    "    ('Toyota', 224.82, 'JPY'),\n",
    "    ('Samsung', 1780., 'KRW'),\n",
    "    ('Kakao', 705., 'KRW')\n",
    "]"
   ]
  },
  {
   "cell_type": "code",
   "execution_count": 27,
   "id": "ad77653f",
   "metadata": {},
   "outputs": [],
   "source": [
    "from pyspark.sql.types import StringType, FloatType, StructType, StructField"
   ]
  },
  {
   "cell_type": "code",
   "execution_count": 28,
   "id": "0299cdb1",
   "metadata": {},
   "outputs": [],
   "source": [
    "earningsSchema = StructType([\n",
    "    StructField(\"name\", StringType(), True),\n",
    "    StructField(\"eps\", FloatType(), True),\n",
    "    StructField(\"currency\", StringType(), True),\n",
    "])"
   ]
  },
  {
   "cell_type": "code",
   "execution_count": 29,
   "id": "7ce82c9f",
   "metadata": {},
   "outputs": [],
   "source": [
    "earningsDF = spark.createDataFrame(data=earnings, schema=earningsSchema)"
   ]
  },
  {
   "cell_type": "code",
   "execution_count": 30,
   "id": "5b697778",
   "metadata": {},
   "outputs": [
    {
     "data": {
      "text/plain": [
       "[('name', 'string'), ('eps', 'float'), ('currency', 'string')]"
      ]
     },
     "execution_count": 30,
     "metadata": {},
     "output_type": "execute_result"
    }
   ],
   "source": [
    "earningsDF.dtypes"
   ]
  },
  {
   "cell_type": "code",
   "execution_count": 31,
   "id": "fdd62b01",
   "metadata": {},
   "outputs": [],
   "source": [
    "# temporary view\n",
    "earningsDF.createOrReplaceTempView(\"earnings\")"
   ]
  },
  {
   "cell_type": "code",
   "execution_count": 32,
   "id": "064d2d9b",
   "metadata": {},
   "outputs": [
    {
     "name": "stdout",
     "output_type": "stream",
     "text": [
      "+-------+------+--------+\n",
      "|   name|   eps|currency|\n",
      "+-------+------+--------+\n",
      "| Google| 27.99|     USD|\n",
      "|Netflix|  2.56|     USD|\n",
      "| Amazon|  6.12|     USD|\n",
      "|  Tesla|  1.86|     USD|\n",
      "|Tencent| 11.01|     HKD|\n",
      "| Toyota|224.82|     JPY|\n",
      "|Samsung|1780.0|     KRW|\n",
      "|  Kakao| 705.0|     KRW|\n",
      "+-------+------+--------+\n",
      "\n"
     ]
    }
   ],
   "source": [
    "earningsDF.select(\"*\").show()"
   ]
  },
  {
   "cell_type": "markdown",
   "id": "46654bfb",
   "metadata": {},
   "source": [
    "### inner join"
   ]
  },
  {
   "cell_type": "code",
   "execution_count": 33,
   "id": "d3e4582f",
   "metadata": {},
   "outputs": [
    {
     "name": "stdout",
     "output_type": "stream",
     "text": [
      "+-------+------+---------+------+--------+-------+------+--------+\n",
      "|   name|ticker|  country| price|currency|   name|   eps|currency|\n",
      "+-------+------+---------+------+--------+-------+------+--------+\n",
      "| Amazon|  AMZN|      USA|  3518|     USD| Amazon|  6.12|     USD|\n",
      "| Google| GOOGL|      USA|  2984|     USD| Google| 27.99|     USD|\n",
      "|  Kakao|035720|    Korea|125000|     KRW|  Kakao| 705.0|     KRW|\n",
      "|Netflix|  NFLX|      USA|   645|     USD|Netflix|  2.56|     USD|\n",
      "|Samsung|005930|    Korea| 70600|     KRW|Samsung|1780.0|     KRW|\n",
      "|Tencent|  0700|Hong Kong|   483|     HKD|Tencent| 11.01|     HKD|\n",
      "|  Tesla|  TSLA|      USA|  1222|     USD|  Tesla|  1.86|     USD|\n",
      "| Toyota|  7203|    Japan|  2006|     JPY| Toyota|224.82|     JPY|\n",
      "+-------+------+---------+------+--------+-------+------+--------+\n",
      "\n"
     ]
    }
   ],
   "source": [
    "spark.sql(\"select * from stocks join earnings on stocks.name = earnings.name\").show()"
   ]
  },
  {
   "cell_type": "markdown",
   "id": "ac7d438b",
   "metadata": {},
   "source": [
    "### 주가 수익률 계산"
   ]
  },
  {
   "cell_type": "code",
   "execution_count": 34,
   "id": "536bac1d",
   "metadata": {},
   "outputs": [
    {
     "name": "stdout",
     "output_type": "stream",
     "text": [
      "+-------+---------------------------------------------+\n",
      "|   name|(CAST(price AS DOUBLE) / CAST(eps AS DOUBLE))|\n",
      "+-------+---------------------------------------------+\n",
      "| Amazon|                            574.8366120563447|\n",
      "| Google|                            106.6095042658442|\n",
      "|  Kakao|                            177.3049645390071|\n",
      "|Netflix|                            251.9531306315913|\n",
      "|Samsung|                           39.662921348314605|\n",
      "|Tencent|                            43.86920889728746|\n",
      "|  Tesla|                             656.989242258975|\n",
      "| Toyota|                            8.922693419839167|\n",
      "+-------+---------------------------------------------+\n",
      "\n"
     ]
    }
   ],
   "source": [
    "# PER: Price / EPS \n",
    "spark.sql(\"select stocks.name, (stocks.price/earnings.eps) from stocks join earnings on stocks.name = earnings.name \").show()"
   ]
  }
 ],
 "metadata": {
  "kernelspec": {
   "display_name": "Python 3 (ipykernel)",
   "language": "python",
   "name": "python3"
  },
  "language_info": {
   "codemirror_mode": {
    "name": "ipython",
    "version": 3
   },
   "file_extension": ".py",
   "mimetype": "text/x-python",
   "name": "python",
   "nbconvert_exporter": "python",
   "pygments_lexer": "ipython3",
   "version": "3.8.15"
  }
 },
 "nbformat": 4,
 "nbformat_minor": 5
}
