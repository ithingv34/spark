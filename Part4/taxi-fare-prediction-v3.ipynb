{
 "cells": [
  {
   "cell_type": "code",
   "execution_count": 1,
   "id": "6c89f375",
   "metadata": {},
   "outputs": [],
   "source": [
    "from pyspark.sql import SparkSession"
   ]
  },
  {
   "cell_type": "code",
   "execution_count": 2,
   "id": "14ef5549",
   "metadata": {},
   "outputs": [
    {
     "name": "stderr",
     "output_type": "stream",
     "text": [
      "Setting default log level to \"WARN\".\n",
      "To adjust logging level use sc.setLogLevel(newLevel). For SparkR, use setLogLevel(newLevel).\n",
      "23/04/27 06:57:20 INFO org.apache.spark.SparkEnv: Registering MapOutputTracker\n",
      "23/04/27 06:57:20 INFO org.apache.spark.SparkEnv: Registering BlockManagerMaster\n",
      "23/04/27 06:57:20 INFO org.apache.spark.SparkEnv: Registering BlockManagerMasterHeartbeat\n",
      "23/04/27 06:57:20 INFO org.apache.spark.SparkEnv: Registering OutputCommitCoordinator\n"
     ]
    }
   ],
   "source": [
    "MAX_MEMORY=\"5g\"\n",
    "spark = SparkSession.builder.appName(\"taxi-fare-prediciton\")\\\n",
    "                .config(\"spark.executor.memory\", MAX_MEMORY)\\\n",
    "                .config(\"spark.driver.memory\", MAX_MEMORY)\\\n",
    "                .getOrCreate()"
   ]
  },
  {
   "cell_type": "code",
   "execution_count": 3,
   "id": "1a308b57",
   "metadata": {},
   "outputs": [],
   "source": [
    "data_dir = \"/home/ithingvv34/data-engineering/spark/data/trips/\""
   ]
  },
  {
   "cell_type": "code",
   "execution_count": 4,
   "id": "193f3160",
   "metadata": {},
   "outputs": [
    {
     "name": "stderr",
     "output_type": "stream",
     "text": [
      "                                                                                \r"
     ]
    }
   ],
   "source": [
    "train_df = spark.read.parquet(f\"{data_dir}/train/\")\n",
    "test_df = spark.read.parquet(f\"{data_dir}/test/\")"
   ]
  },
  {
   "cell_type": "code",
   "execution_count": 5,
   "id": "f1f7037c",
   "metadata": {},
   "outputs": [],
   "source": [
    "toy_df = train_df.sample(False, 0.1, seed=1)"
   ]
  },
  {
   "cell_type": "code",
   "execution_count": 6,
   "id": "7b1499b7",
   "metadata": {},
   "outputs": [
    {
     "name": "stdout",
     "output_type": "stream",
     "text": [
      "root\n",
      " |-- passenger_count: double (nullable = true)\n",
      " |-- pickup_location_id: integer (nullable = true)\n",
      " |-- dropoff_location_id: integer (nullable = true)\n",
      " |-- trip_distance: double (nullable = true)\n",
      " |-- pickup_time: integer (nullable = true)\n",
      " |-- day_of_week: string (nullable = true)\n",
      " |-- total_amount: double (nullable = true)\n",
      "\n"
     ]
    }
   ],
   "source": [
    "toy_df.printSchema()"
   ]
  },
  {
   "cell_type": "code",
   "execution_count": 7,
   "id": "b197ea72",
   "metadata": {},
   "outputs": [],
   "source": [
    "from pyspark.ml.feature import OneHotEncoder, StringIndexer\n",
    "\n",
    "cat_feats = [\n",
    "    \"pickup_location_id\",\n",
    "    \"dropoff_location_id\",\n",
    "    \"day_of_week\"\n",
    "]\n",
    "\n",
    "stages = []\n",
    "\n",
    "for c in cat_feats:\n",
    "    cat_indexer = StringIndexer(inputCol=c, outputCol= c + \"_idx\").setHandleInvalid(\"keep\")\n",
    "    onehot_encoder = OneHotEncoder(inputCols=[cat_indexer.getOutputCol()], outputCols=[c + \"_onehot\"])\n",
    "    stages += [cat_indexer, onehot_encoder]"
   ]
  },
  {
   "cell_type": "code",
   "execution_count": 8,
   "id": "b3d1a552",
   "metadata": {},
   "outputs": [],
   "source": [
    "from pyspark.ml.feature import VectorAssembler, StandardScaler\n",
    "\n",
    "num_feats = [\n",
    "    \"passenger_count\",\n",
    "    \"trip_distance\",\n",
    "    \"pickup_time\"\n",
    "]\n",
    "\n",
    "for n in num_feats:\n",
    "    num_assembler = VectorAssembler(inputCols=[n], outputCol= n + \"_vecotr\")\n",
    "    num_scaler = StandardScaler(inputCol=num_assembler.getOutputCol(), outputCol= n + \"_scaled\")\n",
    "    stages += [num_assembler, num_scaler]"
   ]
  },
  {
   "cell_type": "code",
   "execution_count": 9,
   "id": "6c9e35cd",
   "metadata": {},
   "outputs": [],
   "source": [
    "assembler_inputs = [c + \"_onehot\" for c in cat_feats] + [n + \"_scaled\" for n in num_feats]\n",
    "assembler = VectorAssembler(inputCols=assembler_inputs, outputCol=\"feature_vector\")\n",
    "stages += [assembler]"
   ]
  },
  {
   "cell_type": "markdown",
   "id": "f144a456",
   "metadata": {},
   "source": [
    "## Hyperparameter Tuning"
   ]
  },
  {
   "cell_type": "code",
   "execution_count": 10,
   "id": "4abb1bfc",
   "metadata": {},
   "outputs": [],
   "source": [
    "from pyspark.ml import Pipeline\n",
    "from pyspark.ml.regression import LinearRegression\n",
    "from pyspark.ml.tuning import CrossValidator, ParamGridBuilder\n",
    "from pyspark.ml.evaluation import RegressionEvaluator\n",
    "\n",
    "lr = LinearRegression(\n",
    "    maxIter=30,\n",
    "    solver=\"normal\",\n",
    "    labelCol='total_amount',\n",
    "    featuresCol='feature_vector'\n",
    ")\n",
    "\n",
    "cv_stages = stages + [lr]"
   ]
  },
  {
   "cell_type": "code",
   "execution_count": 11,
   "id": "9e243aaf",
   "metadata": {},
   "outputs": [],
   "source": [
    "cv_pipeline = Pipeline(stages=cv_stages)"
   ]
  },
  {
   "cell_type": "code",
   "execution_count": 12,
   "id": "4401c160",
   "metadata": {},
   "outputs": [],
   "source": [
    "param_grid = ParamGridBuilder()\\\n",
    "                .addGrid(lr.elasticNetParam, [0.1, 0.2, 0.3, 0.4, 0.5])\\\n",
    "                .addGrid(lr.regParam, [0.01, 0.02, 0.03, 0.04, 0.05])\\\n",
    "                .build()"
   ]
  },
  {
   "cell_type": "code",
   "execution_count": 13,
   "id": "3575a425",
   "metadata": {},
   "outputs": [],
   "source": [
    "cross_val = CrossValidator(estimator=cv_pipeline,\n",
    "                           estimatorParamMaps=param_grid,\n",
    "                           evaluator=RegressionEvaluator(labelCol=\"total_amount\"),\n",
    "                           numFolds=5)"
   ]
  },
  {
   "cell_type": "code",
   "execution_count": 14,
   "id": "f68456da",
   "metadata": {},
   "outputs": [
    {
     "name": "stderr",
     "output_type": "stream",
     "text": [
      "23/04/27 06:57:47 WARN com.github.fommil.netlib.BLAS: Failed to load implementation from: com.github.fommil.netlib.NativeSystemBLAS\n",
      "23/04/27 06:57:47 WARN com.github.fommil.netlib.BLAS: Failed to load implementation from: com.github.fommil.netlib.NativeRefBLAS\n",
      "                                                                                \r"
     ]
    }
   ],
   "source": [
    "cv_model = cross_val.fit(toy_df)"
   ]
  },
  {
   "cell_type": "code",
   "execution_count": 15,
   "id": "493a7a7e",
   "metadata": {},
   "outputs": [],
   "source": [
    "alpha = cv_model.bestModel.stages[-1]._java_obj.getElasticNetParam()\n",
    "reg_param = cv_model.bestModel.stages[-1]._java_obj.getRegParam()"
   ]
  },
  {
   "cell_type": "markdown",
   "id": "118d509c",
   "metadata": {},
   "source": [
    "## Training"
   ]
  },
  {
   "cell_type": "code",
   "execution_count": 16,
   "id": "39b44e01",
   "metadata": {},
   "outputs": [
    {
     "name": "stderr",
     "output_type": "stream",
     "text": [
      "                                                                                \r"
     ]
    }
   ],
   "source": [
    "transform_stages = stages\n",
    "pipeline = Pipeline(stages=transform_stages)\n",
    "fitted_transformer = pipeline.fit(train_df)"
   ]
  },
  {
   "cell_type": "code",
   "execution_count": 17,
   "id": "5d965a6d",
   "metadata": {},
   "outputs": [],
   "source": [
    "vtrain_df = fitted_transformer.transform(train_df)"
   ]
  },
  {
   "cell_type": "code",
   "execution_count": 18,
   "id": "450a8e37",
   "metadata": {},
   "outputs": [],
   "source": [
    "\n",
    "lr = LinearRegression(\n",
    "    maxIter=50,\n",
    "    solver=\"normal\",\n",
    "    labelCol=\"total_amount\",\n",
    "    featuresCol=\"feature_vector\",\n",
    "    elasticNetParam=alpha,\n",
    "    regParam=reg_param,\n",
    ")"
   ]
  },
  {
   "cell_type": "code",
   "execution_count": 19,
   "id": "4265a9b3",
   "metadata": {},
   "outputs": [
    {
     "name": "stdout",
     "output_type": "stream",
     "text": [
      "root\n",
      " |-- passenger_count: double (nullable = true)\n",
      " |-- pickup_location_id: integer (nullable = true)\n",
      " |-- dropoff_location_id: integer (nullable = true)\n",
      " |-- trip_distance: double (nullable = true)\n",
      " |-- pickup_time: integer (nullable = true)\n",
      " |-- day_of_week: string (nullable = true)\n",
      " |-- total_amount: double (nullable = true)\n",
      " |-- pickup_location_id_idx: double (nullable = false)\n",
      " |-- pickup_location_id_onehot: vector (nullable = true)\n",
      " |-- dropoff_location_id_idx: double (nullable = false)\n",
      " |-- dropoff_location_id_onehot: vector (nullable = true)\n",
      " |-- day_of_week_idx: double (nullable = false)\n",
      " |-- day_of_week_onehot: vector (nullable = true)\n",
      " |-- passenger_count_vecotr: vector (nullable = true)\n",
      " |-- passenger_count_scaled: vector (nullable = true)\n",
      " |-- trip_distance_vecotr: vector (nullable = true)\n",
      " |-- trip_distance_scaled: vector (nullable = true)\n",
      " |-- pickup_time_vecotr: vector (nullable = true)\n",
      " |-- pickup_time_scaled: vector (nullable = true)\n",
      " |-- feature_vector: vector (nullable = true)\n",
      "\n"
     ]
    }
   ],
   "source": [
    "vtrain_df.printSchema()"
   ]
  },
  {
   "cell_type": "code",
   "execution_count": 20,
   "id": "f2d00f60",
   "metadata": {},
   "outputs": [
    {
     "name": "stderr",
     "output_type": "stream",
     "text": [
      "                                                                                \r"
     ]
    }
   ],
   "source": [
    "model = lr.fit(vtrain_df)"
   ]
  },
  {
   "cell_type": "code",
   "execution_count": 21,
   "id": "9a95e8c3",
   "metadata": {},
   "outputs": [],
   "source": [
    "vtest_df = fitted_transformer.transform(test_df)"
   ]
  },
  {
   "cell_type": "code",
   "execution_count": 22,
   "id": "05b3df31",
   "metadata": {},
   "outputs": [],
   "source": [
    "predictions = model.transform(vtest_df)"
   ]
  },
  {
   "cell_type": "code",
   "execution_count": 23,
   "id": "61d0d5df",
   "metadata": {},
   "outputs": [
    {
     "data": {
      "text/plain": [
       "DataFrame[passenger_count: double, pickup_location_id: int, dropoff_location_id: int, trip_distance: double, pickup_time: int, day_of_week: string, total_amount: double, pickup_location_id_idx: double, pickup_location_id_onehot: vector, dropoff_location_id_idx: double, dropoff_location_id_onehot: vector, day_of_week_idx: double, day_of_week_onehot: vector, passenger_count_vecotr: vector, passenger_count_scaled: vector, trip_distance_vecotr: vector, trip_distance_scaled: vector, pickup_time_vecotr: vector, pickup_time_scaled: vector, feature_vector: vector, prediction: double]"
      ]
     },
     "execution_count": 23,
     "metadata": {},
     "output_type": "execute_result"
    }
   ],
   "source": [
    "predictions.cache()"
   ]
  },
  {
   "cell_type": "code",
   "execution_count": 24,
   "id": "2a7f4514",
   "metadata": {},
   "outputs": [
    {
     "name": "stderr",
     "output_type": "stream",
     "text": [
      "[Stage 2667:>                                                       (0 + 1) / 1]\r"
     ]
    },
    {
     "name": "stdout",
     "output_type": "stream",
     "text": [
      "+-------------+-----------+------------+------------------+\n",
      "|trip_distance|day_of_week|total_amount|        prediction|\n",
      "+-------------+-----------+------------+------------------+\n",
      "|          0.7|   Saturday|       12.35|12.352459542162125|\n",
      "|          3.1|    Tuesday|        18.0|17.697872926487825|\n",
      "|          2.1|   Saturday|       15.35| 16.60805890094177|\n",
      "|          1.7|   Saturday|        13.3|14.227662019554533|\n",
      "|          4.1|     Friday|        21.3| 20.80925577077049|\n",
      "|          1.4|     Friday|         8.3|12.254658778787743|\n",
      "|          7.3|    Tuesday|        29.3|28.013714920254074|\n",
      "|          0.7|  Wednesday|         5.8|  10.0160041924994|\n",
      "|          5.0|  Wednesday|        24.3| 21.27199067096091|\n",
      "|          6.7|   Saturday|        29.8|37.383642194676824|\n",
      "|         16.8|     Friday|       82.37| 70.79052065237207|\n",
      "|         29.3|     Monday|        80.8|102.72109235730497|\n",
      "|          4.1|     Friday|        20.8| 21.92870666451946|\n",
      "|          0.1|  Wednesday|        55.3|12.460457922539465|\n",
      "|          0.7|  Wednesday|        10.3|14.445586764684757|\n",
      "|          3.7|  Wednesday|        17.8|22.346118174920075|\n",
      "|          2.4|    Tuesday|        14.8| 17.23941175187988|\n",
      "|          4.5|     Friday|       26.35|22.749499855182734|\n",
      "|          3.4|  Wednesday|       21.95|19.351760498973107|\n",
      "|          4.0|   Thursday|        20.8|21.284782148029098|\n",
      "+-------------+-----------+------------+------------------+\n",
      "only showing top 20 rows\n",
      "\n"
     ]
    },
    {
     "name": "stderr",
     "output_type": "stream",
     "text": [
      "                                                                                \r"
     ]
    }
   ],
   "source": [
    "predictions.select([\"trip_distance\", \"day_of_week\", \"total_amount\", \"prediction\"]).show()"
   ]
  },
  {
   "cell_type": "code",
   "execution_count": 25,
   "id": "02f653ec",
   "metadata": {},
   "outputs": [
    {
     "data": {
      "text/plain": [
       "5.849604162494973"
      ]
     },
     "execution_count": 25,
     "metadata": {},
     "output_type": "execute_result"
    }
   ],
   "source": [
    "model.summary.rootMeanSquaredError"
   ]
  },
  {
   "cell_type": "code",
   "execution_count": 26,
   "id": "02803459",
   "metadata": {},
   "outputs": [
    {
     "data": {
      "text/plain": [
       "0.796909712507484"
      ]
     },
     "execution_count": 26,
     "metadata": {},
     "output_type": "execute_result"
    }
   ],
   "source": [
    "model.summary.r2"
   ]
  },
  {
   "cell_type": "markdown",
   "id": "69d11984",
   "metadata": {},
   "source": [
    "### 모델 로드 및 사용"
   ]
  },
  {
   "cell_type": "code",
   "execution_count": 27,
   "id": "dbfba244",
   "metadata": {},
   "outputs": [
    {
     "name": "stderr",
     "output_type": "stream",
     "text": [
      "                                                                                \r"
     ]
    }
   ],
   "source": [
    "model_dir = \"/home/ithingvv34/data-engineering/spark/data/trips/model\"\n",
    "model.save(model_dir)"
   ]
  },
  {
   "cell_type": "code",
   "execution_count": 28,
   "id": "f15e53ee",
   "metadata": {},
   "outputs": [],
   "source": [
    "from pyspark.ml.regression import LinearRegressionModel"
   ]
  },
  {
   "cell_type": "code",
   "execution_count": 29,
   "id": "8407cc86",
   "metadata": {},
   "outputs": [],
   "source": [
    "lr_model = LinearRegressionModel().load(model_dir)"
   ]
  },
  {
   "cell_type": "code",
   "execution_count": 30,
   "id": "d5a1de06",
   "metadata": {},
   "outputs": [],
   "source": [
    "predictions = lr_model.transform(vtest_df)"
   ]
  },
  {
   "cell_type": "code",
   "execution_count": 31,
   "id": "84595076",
   "metadata": {},
   "outputs": [
    {
     "name": "stdout",
     "output_type": "stream",
     "text": [
      "+---------------+------------------+-------------------+-------------+-----------+-----------+------------+----------------------+-------------------------+-----------------------+--------------------------+---------------+------------------+----------------------+----------------------+--------------------+--------------------+------------------+--------------------+--------------------+------------------+\n",
      "|passenger_count|pickup_location_id|dropoff_location_id|trip_distance|pickup_time|day_of_week|total_amount|pickup_location_id_idx|pickup_location_id_onehot|dropoff_location_id_idx|dropoff_location_id_onehot|day_of_week_idx|day_of_week_onehot|passenger_count_vecotr|passenger_count_scaled|trip_distance_vecotr|trip_distance_scaled|pickup_time_vecotr|  pickup_time_scaled|      feature_vector|        prediction|\n",
      "+---------------+------------------+-------------------+-------------+-----------+-----------+------------+----------------------+-------------------------+-----------------------+--------------------------+---------------+------------------+----------------------+----------------------+--------------------+--------------------+------------------+--------------------+--------------------+------------------+\n",
      "|            0.0|                 4|                 79|          0.7|         23|   Saturday|       12.35|                  62.0|         (263,[62],[1.0])|                   17.0|          (261,[17],[1.0])|            4.0|     (7,[4],[1.0])|                 [0.0]|                 [0.0]|               [0.7]|[0.1833607094912482]|            [23.0]| [4.493327688025934]|(534,[62,280,528,...|12.352459542162125|\n",
      "|            0.0|                 4|                141|          3.1|          9|    Tuesday|        18.0|                  62.0|         (263,[62],[1.0])|                    2.0|           (261,[2],[1.0])|            3.0|     (7,[3],[1.0])|                 [0.0]|                 [0.0]|               [3.1]|[0.8120259991755278]|             [9.0]|[1.7582586605318873]|(534,[62,265,527,...|17.697872926487825|\n",
      "|            0.0|                 4|                231|          2.1|         23|   Saturday|       15.35|                  62.0|         (263,[62],[1.0])|                   31.0|          (261,[31],[1.0])|            4.0|     (7,[4],[1.0])|                 [0.0]|                 [0.0]|               [2.1]|[0.5500821284737446]|            [23.0]| [4.493327688025934]|(534,[62,294,528,...| 16.60805890094177|\n",
      "|            0.0|                 4|                234|          1.7|         18|   Saturday|        13.3|                  62.0|         (263,[62],[1.0])|                   12.0|          (261,[12],[1.0])|            4.0|     (7,[4],[1.0])|                 [0.0]|                 [0.0]|               [1.7]|[0.4453045801930314]|            [18.0]|[3.5165173210637746]|(534,[62,275,528,...|14.227662019554533|\n",
      "|            0.0|                 4|                236|          4.1|         15|     Friday|        21.3|                  62.0|         (263,[62],[1.0])|                    0.0|           (261,[0],[1.0])|            0.0|     (7,[0],[1.0])|                 [0.0]|                 [0.0]|               [4.1]|[1.0739698698773108]|            [15.0]|[2.9304311008864787]|(534,[62,263,524,...| 20.80925577077049|\n",
      "|            0.0|                 7|                  7|          1.4|         14|     Friday|         8.3|                  63.0|         (263,[63],[1.0])|                   57.0|          (261,[57],[1.0])|            0.0|     (7,[0],[1.0])|                 [0.0]|                 [0.0]|               [1.4]|[0.3667214189824964]|            [14.0]| [2.735069027494047]|(534,[63,320,524,...|12.254658778787743|\n",
      "|            0.0|                 7|                 65|          7.3|          7|    Tuesday|        29.3|                  63.0|         (263,[63],[1.0])|                   77.0|          (261,[77],[1.0])|            3.0|     (7,[3],[1.0])|                 [0.0]|                 [0.0]|               [7.3]| [1.912190256123017]|             [7.0]|[1.3675345137470234]|(534,[63,340,527,...|28.013714920254074|\n",
      "|            0.0|                 7|                146|          0.7|         11|  Wednesday|         5.8|                  63.0|         (263,[63],[1.0])|                   86.0|          (261,[86],[1.0])|            2.0|     (7,[2],[1.0])|                 [0.0]|                 [0.0]|               [0.7]|[0.1833607094912482]|            [11.0]| [2.148982807316751]|(534,[63,349,526,...|  10.0160041924994|\n",
      "|            0.0|                 7|                186|          5.0|          8|  Wednesday|        24.3|                  63.0|         (263,[63],[1.0])|                   16.0|          (261,[16],[1.0])|            2.0|     (7,[2],[1.0])|                 [0.0]|                 [0.0]|               [5.0]|[1.3097193535089158]|             [8.0]|[1.5628965871394553]|(534,[63,279,526,...| 21.27199067096091|\n",
      "|            0.0|                10|                 10|          6.7|         22|   Saturday|        29.8|                  84.0|         (263,[84],[1.0])|                   99.0|          (261,[99],[1.0])|            4.0|     (7,[4],[1.0])|                 [0.0]|                 [0.0]|               [6.7]| [1.755023933701947]|            [22.0]| [4.297965614633502]|(534,[84,362,528,...|37.383642194676824|\n",
      "|            0.0|                10|                140|         16.8|         18|     Friday|       82.37|                  84.0|         (263,[84],[1.0])|                   10.0|          (261,[10],[1.0])|            0.0|     (7,[0],[1.0])|                 [0.0]|                 [0.0]|              [16.8]| [4.400657027789957]|            [18.0]|[3.5165173210637746]|(534,[84,273,524,...| 70.79052065237207|\n",
      "|            0.0|                10|                241|         29.3|         11|     Monday|        80.8|                  84.0|         (263,[84],[1.0])|                  142.0|         (261,[142],[1.0])|            5.0|     (7,[5],[1.0])|                 [0.0]|                 [0.0]|              [29.3]| [7.674955411562246]|            [11.0]| [2.148982807316751]|(534,[84,405,529,...|102.72109235730497|\n",
      "|            0.0|                12|                246|          4.1|         14|     Friday|        20.8|                  71.0|         (263,[71],[1.0])|                   24.0|          (261,[24],[1.0])|            0.0|     (7,[0],[1.0])|                 [0.0]|                 [0.0]|               [4.1]|[1.0739698698773108]|            [14.0]| [2.735069027494047]|(534,[71,287,524,...| 21.92870666451946|\n",
      "|            0.0|                13|                 13|          0.1|          7|  Wednesday|        55.3|                  47.0|         (263,[47],[1.0])|                   44.0|          (261,[44],[1.0])|            2.0|     (7,[2],[1.0])|                 [0.0]|                 [0.0]|               [0.1]|[0.02619438707017...|             [7.0]|[1.3675345137470234]|(534,[47,307,526,...|12.460457922539465|\n",
      "|            0.0|                13|                 13|          0.7|         16|  Wednesday|        10.3|                  47.0|         (263,[47],[1.0])|                   44.0|          (261,[44],[1.0])|            2.0|     (7,[2],[1.0])|                 [0.0]|                 [0.0]|               [0.7]|[0.1833607094912482]|            [16.0]|[3.1257931742789107]|(534,[47,307,526,...|14.445586764684757|\n",
      "|            0.0|                13|                 33|          3.7|         13|  Wednesday|        17.8|                  47.0|         (263,[47],[1.0])|                   61.0|          (261,[61],[1.0])|            2.0|     (7,[2],[1.0])|                 [0.0]|                 [0.0]|               [3.7]|[0.9691923215965977]|            [13.0]| [2.539706954101615]|(534,[47,324,526,...|22.346118174920075|\n",
      "|            0.0|                13|                 68|          2.4|         15|    Tuesday|        14.8|                  47.0|         (263,[47],[1.0])|                   14.0|          (261,[14],[1.0])|            3.0|     (7,[3],[1.0])|                 [0.0]|                 [0.0]|               [2.4]|[0.6286652896842796]|            [15.0]|[2.9304311008864787]|(534,[47,277,527,...| 17.23941175187988|\n",
      "|            0.0|                13|                 79|          4.5|         10|     Friday|       26.35|                  47.0|         (263,[47],[1.0])|                   17.0|          (261,[17],[1.0])|            0.0|     (7,[0],[1.0])|                 [0.0]|                 [0.0]|               [4.5]|[1.1787474181580242]|            [10.0]|[1.9536207339243192]|(534,[47,280,524,...|22.749499855182734|\n",
      "|            0.0|                13|                 90|          3.4|          8|  Wednesday|       21.95|                  47.0|         (263,[47],[1.0])|                   28.0|          (261,[28],[1.0])|            2.0|     (7,[2],[1.0])|                 [0.0]|                 [0.0]|               [3.4]|[0.8906091603860627]|             [8.0]|[1.5628965871394553]|(534,[47,291,526,...|19.351760498973107|\n",
      "|            0.0|                13|                100|          4.0|          8|   Thursday|        20.8|                  47.0|         (263,[47],[1.0])|                   30.0|          (261,[30],[1.0])|            1.0|     (7,[1],[1.0])|                 [0.0]|                 [0.0]|               [4.0]|[1.0477754828071326]|             [8.0]|[1.5628965871394553]|(534,[47,293,525,...|21.284782148029098|\n",
      "+---------------+------------------+-------------------+-------------+-----------+-----------+------------+----------------------+-------------------------+-----------------------+--------------------------+---------------+------------------+----------------------+----------------------+--------------------+--------------------+------------------+--------------------+--------------------+------------------+\n",
      "only showing top 20 rows\n",
      "\n"
     ]
    }
   ],
   "source": [
    "predictions.show()"
   ]
  }
 ],
 "metadata": {
  "kernelspec": {
   "display_name": "Python 3 (ipykernel)",
   "language": "python",
   "name": "python3"
  },
  "language_info": {
   "codemirror_mode": {
    "name": "ipython",
    "version": 3
   },
   "file_extension": ".py",
   "mimetype": "text/x-python",
   "name": "python",
   "nbconvert_exporter": "python",
   "pygments_lexer": "ipython3",
   "version": "3.8.15"
  }
 },
 "nbformat": 4,
 "nbformat_minor": 5
}
