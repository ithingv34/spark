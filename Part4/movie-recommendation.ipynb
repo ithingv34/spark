{
 "cells": [
  {
   "cell_type": "code",
   "execution_count": 35,
   "id": "a6f15ffe",
   "metadata": {},
   "outputs": [],
   "source": [
    "from pyspark.sql import SparkSession"
   ]
  },
  {
   "cell_type": "code",
   "execution_count": 36,
   "id": "8f8754a7",
   "metadata": {},
   "outputs": [],
   "source": [
    "MAX_MEMORY = \"5g\"\n",
    "spark = SparkSession.builder.appName(\"movie-recommendation\")\\\n",
    "    .config(\"spark.executor.memory\", MAX_MEMORY)\\\n",
    "    .config(\"spark.driver.memory\", MAX_MEMORY)\\\n",
    "    .getOrCreate()"
   ]
  },
  {
   "cell_type": "code",
   "execution_count": 37,
   "id": "e5891199",
   "metadata": {},
   "outputs": [
    {
     "name": "stderr",
     "output_type": "stream",
     "text": [
      "                                                                                \r"
     ]
    }
   ],
   "source": [
    "ratings_file = \"/home/ithingvv34/data-engineering/spark/data/ml-25m/ratings.csv\"\n",
    "ratings_df = spark.read.csv(f\"file:///{ratings_file}\", inferSchema=True, header=True)"
   ]
  },
  {
   "cell_type": "code",
   "execution_count": 38,
   "id": "49bb909b",
   "metadata": {},
   "outputs": [
    {
     "name": "stdout",
     "output_type": "stream",
     "text": [
      "+------+-------+------+----------+\n",
      "|userId|movieId|rating| timestamp|\n",
      "+------+-------+------+----------+\n",
      "|     1|    296|   5.0|1147880044|\n",
      "|     1|    306|   3.5|1147868817|\n",
      "|     1|    307|   5.0|1147868828|\n",
      "|     1|    665|   5.0|1147878820|\n",
      "|     1|    899|   3.5|1147868510|\n",
      "|     1|   1088|   4.0|1147868495|\n",
      "|     1|   1175|   3.5|1147868826|\n",
      "|     1|   1217|   3.5|1147878326|\n",
      "|     1|   1237|   5.0|1147868839|\n",
      "|     1|   1250|   4.0|1147868414|\n",
      "|     1|   1260|   3.5|1147877857|\n",
      "|     1|   1653|   4.0|1147868097|\n",
      "|     1|   2011|   2.5|1147868079|\n",
      "|     1|   2012|   2.5|1147868068|\n",
      "|     1|   2068|   2.5|1147869044|\n",
      "|     1|   2161|   3.5|1147868609|\n",
      "|     1|   2351|   4.5|1147877957|\n",
      "|     1|   2573|   4.0|1147878923|\n",
      "|     1|   2632|   5.0|1147878248|\n",
      "|     1|   2692|   5.0|1147869100|\n",
      "+------+-------+------+----------+\n",
      "only showing top 20 rows\n",
      "\n"
     ]
    }
   ],
   "source": [
    "ratings_df.show()"
   ]
  },
  {
   "cell_type": "code",
   "execution_count": 39,
   "id": "d905aec3",
   "metadata": {},
   "outputs": [],
   "source": [
    "ratings_df = ratings_df.select([\"userId\", \"movieId\", \"rating\"])"
   ]
  },
  {
   "cell_type": "code",
   "execution_count": 40,
   "id": "13568d5a",
   "metadata": {},
   "outputs": [
    {
     "name": "stdout",
     "output_type": "stream",
     "text": [
      "root\n",
      " |-- userId: integer (nullable = true)\n",
      " |-- movieId: integer (nullable = true)\n",
      " |-- rating: double (nullable = true)\n",
      "\n"
     ]
    }
   ],
   "source": [
    "ratings_df.printSchema()"
   ]
  },
  {
   "cell_type": "code",
   "execution_count": 41,
   "id": "9c426807",
   "metadata": {},
   "outputs": [
    {
     "name": "stderr",
     "output_type": "stream",
     "text": [
      "[Stage 3:=================================================>         (5 + 1) / 6]\r"
     ]
    },
    {
     "name": "stdout",
     "output_type": "stream",
     "text": [
      "+-------+------------------+\n",
      "|summary|            rating|\n",
      "+-------+------------------+\n",
      "|  count|          25000095|\n",
      "|   mean| 3.533854451353085|\n",
      "| stddev|1.0607439611423535|\n",
      "|    min|               0.5|\n",
      "|    max|               5.0|\n",
      "+-------+------------------+\n",
      "\n"
     ]
    },
    {
     "name": "stderr",
     "output_type": "stream",
     "text": [
      "                                                                                \r"
     ]
    }
   ],
   "source": [
    "ratings_df.select(\"rating\").describe().show()"
   ]
  },
  {
   "cell_type": "code",
   "execution_count": 42,
   "id": "e0eb4a8c",
   "metadata": {},
   "outputs": [],
   "source": [
    "train_df, test_df = ratings_df.randomSplit([0.8, 0.2])"
   ]
  },
  {
   "cell_type": "code",
   "execution_count": 43,
   "id": "67ed0cd9",
   "metadata": {},
   "outputs": [],
   "source": [
    "from pyspark.ml.recommendation import ALS"
   ]
  },
  {
   "cell_type": "code",
   "execution_count": 44,
   "id": "991d9b51",
   "metadata": {},
   "outputs": [],
   "source": [
    "als = ALS(\n",
    "    maxIter=5,\n",
    "    regParam=0.1,\n",
    "    userCol=\"userId\",\n",
    "    itemCol=\"movieId\",\n",
    "    ratingCol=\"rating\",\n",
    "    coldStartStrategy=\"drop\"\n",
    ")"
   ]
  },
  {
   "cell_type": "code",
   "execution_count": 45,
   "id": "fb149194",
   "metadata": {},
   "outputs": [
    {
     "name": "stderr",
     "output_type": "stream",
     "text": [
      "                                                                                \r"
     ]
    }
   ],
   "source": [
    "model = als.fit(train_df)"
   ]
  },
  {
   "cell_type": "code",
   "execution_count": 46,
   "id": "6512ffa6",
   "metadata": {},
   "outputs": [],
   "source": [
    "predictions = model.transform(test_df)"
   ]
  },
  {
   "cell_type": "code",
   "execution_count": 47,
   "id": "a0818a45",
   "metadata": {},
   "outputs": [
    {
     "name": "stderr",
     "output_type": "stream",
     "text": [
      "[Stage 40:================================================>         (5 + 1) / 6]\r"
     ]
    },
    {
     "name": "stdout",
     "output_type": "stream",
     "text": [
      "+------+-------+------+----------+\n",
      "|userId|movieId|rating|prediction|\n",
      "+------+-------+------+----------+\n",
      "|   148|     32|   4.0|  4.021391|\n",
      "|   148|     47|   4.0| 4.1730494|\n",
      "|   148|    912|   4.0| 4.1919765|\n",
      "|   148|    919|   3.5| 3.8573008|\n",
      "|   148|   1222|   4.0| 4.0958395|\n",
      "|   148|   1247|   3.5|   4.02036|\n",
      "|   148|   1250|   4.0| 4.0922856|\n",
      "|   148|   2019|   5.0| 4.2554216|\n",
      "|   148|   2329|   4.0|   4.13705|\n",
      "|   148|   2571|   5.0| 4.1222534|\n",
      "|   148|   3000|   4.0| 4.1257954|\n",
      "|   148|   3462|   4.5|  4.071162|\n",
      "|   148|   3949|   4.0|  3.983326|\n",
      "|   148|   4886|   4.0| 3.7664251|\n",
      "|   148|   4993|   4.5| 4.0552874|\n",
      "|   148|   8228|   4.5| 3.9888904|\n",
      "|   148|  79132|   4.0| 4.0232186|\n",
      "|   148| 109487|   4.0| 3.9219072|\n",
      "|   148| 112556|   4.5| 3.8461192|\n",
      "|   148| 134853|   4.0| 3.8228917|\n",
      "+------+-------+------+----------+\n",
      "only showing top 20 rows\n",
      "\n"
     ]
    },
    {
     "name": "stderr",
     "output_type": "stream",
     "text": [
      "                                                                                \r"
     ]
    }
   ],
   "source": [
    "predictions.show()"
   ]
  },
  {
   "cell_type": "code",
   "execution_count": 48,
   "id": "aff62bb7",
   "metadata": {},
   "outputs": [
    {
     "name": "stderr",
     "output_type": "stream",
     "text": [
      "[Stage 85:================================================>         (5 + 1) / 6]\r"
     ]
    },
    {
     "name": "stdout",
     "output_type": "stream",
     "text": [
      "+-------+-----------------+------------------+\n",
      "|summary|           rating|        prediction|\n",
      "+-------+-----------------+------------------+\n",
      "|  count|          4998423|           4998423|\n",
      "|   mean|3.534334829205131|3.4284369788107427|\n",
      "| stddev|1.060661417303487|0.6417545960421398|\n",
      "|    min|              0.5|        -1.4957137|\n",
      "|    max|              5.0|         7.4791794|\n",
      "+-------+-----------------+------------------+\n",
      "\n"
     ]
    },
    {
     "name": "stderr",
     "output_type": "stream",
     "text": [
      "                                                                                \r"
     ]
    }
   ],
   "source": [
    "predictions.select('rating', 'prediction').describe().show()"
   ]
  },
  {
   "cell_type": "code",
   "execution_count": 49,
   "id": "595399d0",
   "metadata": {},
   "outputs": [],
   "source": [
    "from pyspark.ml.evaluation import RegressionEvaluator\n",
    "\n",
    "evaluator = RegressionEvaluator(metricName=\"rmse\", labelCol='rating', predictionCol='prediction')"
   ]
  },
  {
   "cell_type": "code",
   "execution_count": 50,
   "id": "0dc8c946",
   "metadata": {},
   "outputs": [
    {
     "name": "stderr",
     "output_type": "stream",
     "text": [
      "                                                                                \r"
     ]
    }
   ],
   "source": [
    "rmse = evaluator.evaluate(predictions)"
   ]
  },
  {
   "cell_type": "code",
   "execution_count": 51,
   "id": "ec5f0386",
   "metadata": {},
   "outputs": [
    {
     "name": "stdout",
     "output_type": "stream",
     "text": [
      "0.8082022417321826\n"
     ]
    }
   ],
   "source": [
    "print(rmse)"
   ]
  },
  {
   "cell_type": "markdown",
   "id": "1bc4c58f",
   "metadata": {},
   "source": [
    "### 유저 id별로 3개 추천 "
   ]
  },
  {
   "cell_type": "code",
   "execution_count": 52,
   "id": "7fe2130a",
   "metadata": {},
   "outputs": [
    {
     "name": "stderr",
     "output_type": "stream",
     "text": [
      "[Stage 138:=====================================================>(99 + 1) / 100]\r"
     ]
    },
    {
     "name": "stdout",
     "output_type": "stream",
     "text": [
      "+------+--------------------+\n",
      "|userId|     recommendations|\n",
      "+------+--------------------+\n",
      "|     1|[{183947, 5.67025...|\n",
      "|     3|[{127252, 5.85581...|\n",
      "|     5|[{203086, 6.33379...|\n",
      "|     6|[{203086, 6.17574...|\n",
      "|     9|[{127252, 6.27498...|\n",
      "|    12|[{203882, 5.36120...|\n",
      "|    13|[{203086, 5.88755...|\n",
      "|    15|[{203882, 6.82466...|\n",
      "|    16|[{203086, 6.18654...|\n",
      "|    17|[{127252, 6.09247...|\n",
      "|    19|[{200872, 5.29795...|\n",
      "|    20|[{203086, 6.32537...|\n",
      "|    22|[{127252, 6.25013...|\n",
      "|    26|[{127252, 5.63907...|\n",
      "|    27|[{203882, 6.09061...|\n",
      "|    28|[{203882, 6.87935...|\n",
      "|    31|[{203882, 4.00257...|\n",
      "|    34|[{127252, 5.70343...|\n",
      "|    35|[{203882, 6.00346...|\n",
      "|    37|[{183947, 6.19046...|\n",
      "+------+--------------------+\n",
      "only showing top 20 rows\n",
      "\n"
     ]
    },
    {
     "name": "stderr",
     "output_type": "stream",
     "text": [
      "                                                                                \r"
     ]
    }
   ],
   "source": [
    "model.recommendForAllUsers(3).show()"
   ]
  },
  {
   "cell_type": "markdown",
   "id": "5cf87787",
   "metadata": {},
   "source": [
    "### 영화 별로 3개 추천"
   ]
  },
  {
   "cell_type": "code",
   "execution_count": 53,
   "id": "c631d5c6",
   "metadata": {},
   "outputs": [
    {
     "name": "stderr",
     "output_type": "stream",
     "text": [
      "[Stage 167:=====================================================>(99 + 1) / 100]\r"
     ]
    },
    {
     "name": "stdout",
     "output_type": "stream",
     "text": [
      "+-------+--------------------+\n",
      "|movieId|     recommendations|\n",
      "+-------+--------------------+\n",
      "|      1|[{18230, 5.595490...|\n",
      "|      3|[{143282, 5.62795...|\n",
      "|      5|[{143282, 6.00836...|\n",
      "|      6|[{156252, 5.58854...|\n",
      "|      9|[{87426, 5.355251...|\n",
      "|     12|[{87426, 5.368873...|\n",
      "|     13|[{108346, 5.3152}...|\n",
      "|     15|[{87426, 5.173529...|\n",
      "|     16|[{156252, 5.46176...|\n",
      "|     17|[{143282, 5.61735...|\n",
      "|     19|[{87426, 5.067372...|\n",
      "|     20|[{87426, 5.207658...|\n",
      "|     22|[{18230, 5.295377...|\n",
      "|     26|[{18230, 5.191001...|\n",
      "|     27|[{143282, 5.83510...|\n",
      "|     28|[{105801, 5.54564...|\n",
      "|     31|[{143282, 5.66622...|\n",
      "|     34|[{93907, 5.750576...|\n",
      "|     35|[{93907, 5.113336...|\n",
      "|     37|[{143282, 4.77822...|\n",
      "+-------+--------------------+\n",
      "only showing top 20 rows\n",
      "\n"
     ]
    },
    {
     "name": "stderr",
     "output_type": "stream",
     "text": [
      "                                                                                \r"
     ]
    }
   ],
   "source": [
    "model.recommendForAllItems(3).show()"
   ]
  },
  {
   "cell_type": "code",
   "execution_count": 54,
   "id": "f972dfc7",
   "metadata": {},
   "outputs": [
    {
     "name": "stdout",
     "output_type": "stream",
     "text": [
      "+------+\n",
      "|userId|\n",
      "+------+\n",
      "|    65|\n",
      "|    78|\n",
      "|    81|\n",
      "+------+\n",
      "\n"
     ]
    }
   ],
   "source": [
    "from pyspark.sql.types import IntegerType\n",
    "\n",
    "user_list = [65, 78, 81]\n",
    "users_df = spark.createDataFrame(user_list, IntegerType()).toDF('userId')\n",
    "\n",
    "users_df.show()"
   ]
  },
  {
   "cell_type": "code",
   "execution_count": 72,
   "id": "e0e91f96",
   "metadata": {},
   "outputs": [],
   "source": [
    "user_recs = model.recommendForUserSubset(users_df, 10)"
   ]
  },
  {
   "cell_type": "code",
   "execution_count": 73,
   "id": "70360cbf",
   "metadata": {},
   "outputs": [],
   "source": [
    "movies_list = user_recs.collect()[0].recommendations"
   ]
  },
  {
   "cell_type": "code",
   "execution_count": 74,
   "id": "548632fc",
   "metadata": {},
   "outputs": [
    {
     "name": "stdout",
     "output_type": "stream",
     "text": [
      "+-------+------------------+\n",
      "|movieId|            rating|\n",
      "+-------+------------------+\n",
      "| 144202| 6.121954917907715|\n",
      "| 169606| 5.945925712585449|\n",
      "| 126397| 5.922198295593262|\n",
      "| 127252|5.9189653396606445|\n",
      "| 196717| 5.861759185791016|\n",
      "| 149484| 5.694983005523682|\n",
      "| 205277| 5.675905704498291|\n",
      "| 198535|5.5750885009765625|\n",
      "| 164751| 5.517662048339844|\n",
      "| 156773|5.4184489250183105|\n",
      "+-------+------------------+\n",
      "\n"
     ]
    }
   ],
   "source": [
    "recs_df = spark.createDataFrame(movies_list)\n",
    "recs_df.show()"
   ]
  },
  {
   "cell_type": "code",
   "execution_count": 75,
   "id": "dfbe7b20",
   "metadata": {},
   "outputs": [],
   "source": [
    "movies_file = \"/home/ithingvv34/data-engineering/spark/data/ml-25m/movies.csv\"\n",
    "movies_df = spark.read.csv(f\"file:///{movies_file}\", inferSchema=True, header=True)"
   ]
  },
  {
   "cell_type": "code",
   "execution_count": 76,
   "id": "b80a6765",
   "metadata": {},
   "outputs": [
    {
     "name": "stdout",
     "output_type": "stream",
     "text": [
      "+-------+--------------------+--------------------+\n",
      "|movieId|               title|              genres|\n",
      "+-------+--------------------+--------------------+\n",
      "|      1|    Toy Story (1995)|Adventure|Animati...|\n",
      "|      2|      Jumanji (1995)|Adventure|Childre...|\n",
      "|      3|Grumpier Old Men ...|      Comedy|Romance|\n",
      "|      4|Waiting to Exhale...|Comedy|Drama|Romance|\n",
      "|      5|Father of the Bri...|              Comedy|\n",
      "|      6|         Heat (1995)|Action|Crime|Thri...|\n",
      "|      7|      Sabrina (1995)|      Comedy|Romance|\n",
      "|      8| Tom and Huck (1995)|  Adventure|Children|\n",
      "|      9| Sudden Death (1995)|              Action|\n",
      "|     10|    GoldenEye (1995)|Action|Adventure|...|\n",
      "|     11|American Presiden...|Comedy|Drama|Romance|\n",
      "|     12|Dracula: Dead and...|       Comedy|Horror|\n",
      "|     13|        Balto (1995)|Adventure|Animati...|\n",
      "|     14|        Nixon (1995)|               Drama|\n",
      "|     15|Cutthroat Island ...|Action|Adventure|...|\n",
      "|     16|       Casino (1995)|         Crime|Drama|\n",
      "|     17|Sense and Sensibi...|       Drama|Romance|\n",
      "|     18|   Four Rooms (1995)|              Comedy|\n",
      "|     19|Ace Ventura: When...|              Comedy|\n",
      "|     20|  Money Train (1995)|Action|Comedy|Cri...|\n",
      "+-------+--------------------+--------------------+\n",
      "only showing top 20 rows\n",
      "\n"
     ]
    }
   ],
   "source": [
    "movies_df.show()"
   ]
  },
  {
   "cell_type": "code",
   "execution_count": 77,
   "id": "48f54a35",
   "metadata": {},
   "outputs": [],
   "source": [
    "recs_df.createOrReplaceTempView(\"recommendations\")\n",
    "movies_df.createOrReplaceTempView(\"movies\")"
   ]
  },
  {
   "cell_type": "code",
   "execution_count": 78,
   "id": "572d3752",
   "metadata": {},
   "outputs": [
    {
     "name": "stdout",
     "output_type": "stream",
     "text": [
      "+-------+--------------------+--------------------+-------+------------------+\n",
      "|movieId|               title|              genres|movieId|            rating|\n",
      "+-------+--------------------+--------------------+-------+------------------+\n",
      "| 144202|Catch That Girl (...|     Action|Children| 144202| 6.121954917907715|\n",
      "| 169606|Dara O'Briain Cro...|              Comedy| 169606| 5.945925712585449|\n",
      "| 126397|The Encounter (2010)|      Children|Drama| 126397| 5.922198295593262|\n",
      "| 127252|The Veil of Twili...|Crime|Fantasy|Mys...| 127252|5.9189653396606445|\n",
      "| 196717|Bernard and the G...|Comedy|Drama|Fantasy| 196717| 5.861759185791016|\n",
      "| 149484|All About My Wife...|      Comedy|Romance| 149484| 5.694983005523682|\n",
      "| 205277|   Inside Out (1991)|Comedy|Drama|Romance| 205277| 5.675905704498291|\n",
      "| 198535|Trick: The Movie ...|Comedy|Crime|Mystery| 198535|5.5750885009765625|\n",
      "| 164751|Love Never Dies (...|       Drama|Romance| 164751| 5.517662048339844|\n",
      "| 156773|Jimmy Carr: Live ...|              Comedy| 156773|5.4184489250183105|\n",
      "+-------+--------------------+--------------------+-------+------------------+\n",
      "\n"
     ]
    }
   ],
   "source": [
    "query = \"\"\"\n",
    "SELECT *\n",
    "FROM\n",
    "    movies JOIN recommendations\n",
    "    ON movies.movieId = recommendations.movieId\n",
    "ORDER BY\n",
    "    rating desc\n",
    "\"\"\"\n",
    "recommended_movies = spark.sql(query)\n",
    "recommended_movies.show()"
   ]
  },
  {
   "cell_type": "markdown",
   "id": "78aff7fc",
   "metadata": {},
   "source": [
    "### 추천 결과 API"
   ]
  },
  {
   "cell_type": "code",
   "execution_count": 79,
   "id": "8597a8c7",
   "metadata": {},
   "outputs": [],
   "source": [
    "def get_recommendations(user_id, num_recs):\n",
    "    users_df = spark.createDataFrame([user_id], IntegerType()).toDF('userId')\n",
    "    user_recs_df = model.recommendForUserSubset(users_df, num_recs)\n",
    "    \n",
    "    recs_list = user_recs_df.collect()[0].recommendations\n",
    "    recs_df = spark.createDataFrame(recs_list)\n",
    "    recommended_movies = spark.sql(query)\n",
    "    return recommended_movies"
   ]
  },
  {
   "cell_type": "markdown",
   "id": "b7650eac",
   "metadata": {},
   "source": [
    "### id가 456번 유저에게 10개의 영화 추천"
   ]
  },
  {
   "cell_type": "code",
   "execution_count": 80,
   "id": "ae62aacf",
   "metadata": {},
   "outputs": [],
   "source": [
    "recs = get_recommendations(456, 10)"
   ]
  },
  {
   "cell_type": "code",
   "execution_count": 81,
   "id": "cf8140ed",
   "metadata": {},
   "outputs": [],
   "source": [
    "result_df = recs.toPandas()"
   ]
  },
  {
   "cell_type": "code",
   "execution_count": 82,
   "id": "e3191f0a",
   "metadata": {},
   "outputs": [
    {
     "data": {
      "text/html": [
       "<div>\n",
       "<style scoped>\n",
       "    .dataframe tbody tr th:only-of-type {\n",
       "        vertical-align: middle;\n",
       "    }\n",
       "\n",
       "    .dataframe tbody tr th {\n",
       "        vertical-align: top;\n",
       "    }\n",
       "\n",
       "    .dataframe thead th {\n",
       "        text-align: right;\n",
       "    }\n",
       "</style>\n",
       "<table border=\"1\" class=\"dataframe\">\n",
       "  <thead>\n",
       "    <tr style=\"text-align: right;\">\n",
       "      <th></th>\n",
       "      <th>movieId</th>\n",
       "      <th>title</th>\n",
       "      <th>genres</th>\n",
       "      <th>movieId</th>\n",
       "      <th>rating</th>\n",
       "    </tr>\n",
       "  </thead>\n",
       "  <tbody>\n",
       "    <tr>\n",
       "      <th>0</th>\n",
       "      <td>144202</td>\n",
       "      <td>Catch That Girl (2002)</td>\n",
       "      <td>Action|Children</td>\n",
       "      <td>144202</td>\n",
       "      <td>6.121955</td>\n",
       "    </tr>\n",
       "    <tr>\n",
       "      <th>1</th>\n",
       "      <td>169606</td>\n",
       "      <td>Dara O'Briain Crowd Tickler (2015)</td>\n",
       "      <td>Comedy</td>\n",
       "      <td>169606</td>\n",
       "      <td>5.945926</td>\n",
       "    </tr>\n",
       "    <tr>\n",
       "      <th>2</th>\n",
       "      <td>126397</td>\n",
       "      <td>The Encounter (2010)</td>\n",
       "      <td>Children|Drama</td>\n",
       "      <td>126397</td>\n",
       "      <td>5.922198</td>\n",
       "    </tr>\n",
       "    <tr>\n",
       "      <th>3</th>\n",
       "      <td>127252</td>\n",
       "      <td>The Veil of Twilight (2014)</td>\n",
       "      <td>Crime|Fantasy|Mystery</td>\n",
       "      <td>127252</td>\n",
       "      <td>5.918965</td>\n",
       "    </tr>\n",
       "    <tr>\n",
       "      <th>4</th>\n",
       "      <td>196717</td>\n",
       "      <td>Bernard and the Genie (1991)</td>\n",
       "      <td>Comedy|Drama|Fantasy</td>\n",
       "      <td>196717</td>\n",
       "      <td>5.861759</td>\n",
       "    </tr>\n",
       "    <tr>\n",
       "      <th>5</th>\n",
       "      <td>149484</td>\n",
       "      <td>All About My Wife (2012)</td>\n",
       "      <td>Comedy|Romance</td>\n",
       "      <td>149484</td>\n",
       "      <td>5.694983</td>\n",
       "    </tr>\n",
       "    <tr>\n",
       "      <th>6</th>\n",
       "      <td>205277</td>\n",
       "      <td>Inside Out (1991)</td>\n",
       "      <td>Comedy|Drama|Romance</td>\n",
       "      <td>205277</td>\n",
       "      <td>5.675906</td>\n",
       "    </tr>\n",
       "    <tr>\n",
       "      <th>7</th>\n",
       "      <td>198535</td>\n",
       "      <td>Trick: The Movie (2002)</td>\n",
       "      <td>Comedy|Crime|Mystery</td>\n",
       "      <td>198535</td>\n",
       "      <td>5.575089</td>\n",
       "    </tr>\n",
       "    <tr>\n",
       "      <th>8</th>\n",
       "      <td>164751</td>\n",
       "      <td>Love Never Dies (2012)</td>\n",
       "      <td>Drama|Romance</td>\n",
       "      <td>164751</td>\n",
       "      <td>5.517662</td>\n",
       "    </tr>\n",
       "    <tr>\n",
       "      <th>9</th>\n",
       "      <td>156773</td>\n",
       "      <td>Jimmy Carr: Live (2004)</td>\n",
       "      <td>Comedy</td>\n",
       "      <td>156773</td>\n",
       "      <td>5.418449</td>\n",
       "    </tr>\n",
       "  </tbody>\n",
       "</table>\n",
       "</div>"
      ],
      "text/plain": [
       "   movieId                               title                 genres  \\\n",
       "0   144202              Catch That Girl (2002)        Action|Children   \n",
       "1   169606  Dara O'Briain Crowd Tickler (2015)                 Comedy   \n",
       "2   126397                The Encounter (2010)         Children|Drama   \n",
       "3   127252         The Veil of Twilight (2014)  Crime|Fantasy|Mystery   \n",
       "4   196717        Bernard and the Genie (1991)   Comedy|Drama|Fantasy   \n",
       "5   149484            All About My Wife (2012)         Comedy|Romance   \n",
       "6   205277                   Inside Out (1991)   Comedy|Drama|Romance   \n",
       "7   198535             Trick: The Movie (2002)   Comedy|Crime|Mystery   \n",
       "8   164751              Love Never Dies (2012)          Drama|Romance   \n",
       "9   156773             Jimmy Carr: Live (2004)                 Comedy   \n",
       "\n",
       "   movieId    rating  \n",
       "0   144202  6.121955  \n",
       "1   169606  5.945926  \n",
       "2   126397  5.922198  \n",
       "3   127252  5.918965  \n",
       "4   196717  5.861759  \n",
       "5   149484  5.694983  \n",
       "6   205277  5.675906  \n",
       "7   198535  5.575089  \n",
       "8   164751  5.517662  \n",
       "9   156773  5.418449  "
      ]
     },
     "execution_count": 82,
     "metadata": {},
     "output_type": "execute_result"
    }
   ],
   "source": [
    "result_df"
   ]
  }
 ],
 "metadata": {
  "kernelspec": {
   "display_name": "Python 3 (ipykernel)",
   "language": "python",
   "name": "python3"
  },
  "language_info": {
   "codemirror_mode": {
    "name": "ipython",
    "version": 3
   },
   "file_extension": ".py",
   "mimetype": "text/x-python",
   "name": "python",
   "nbconvert_exporter": "python",
   "pygments_lexer": "ipython3",
   "version": "3.8.15"
  }
 },
 "nbformat": 4,
 "nbformat_minor": 5
}
